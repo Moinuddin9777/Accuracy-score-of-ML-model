{
 "cells": [
  {
   "cell_type": "markdown",
   "id": "e9ec4904",
   "metadata": {},
   "source": [
    "### A small example to demonstrate how decision tree classifier works in Machine Learning \n"
   ]
  },
  {
   "cell_type": "markdown",
   "id": "2aba17f5",
   "metadata": {},
   "source": [
    "#### Importing Libraries\n",
    "- pandas(data reading and operation)\n",
    "- matplotlib(data visualization)\n",
    "- sklearn.tree(Decision Tree Classifier)\n",
    "- sklearn.metrics(calculation of accuracy of model)\n",
    "- sklearn.modelselection(testing and training of model)"
   ]
  },
  {
   "cell_type": "code",
   "execution_count": 1,
   "id": "2983e34e",
   "metadata": {},
   "outputs": [],
   "source": [
    "import pandas as pd\n",
    "import matplotlib.pyplot as plt\n",
    "from sklearn.tree import DecisionTreeClassifier\n",
    "from sklearn.model_selection import train_test_split\n",
    "from sklearn.metrics import accuracy_score "
   ]
  },
  {
   "cell_type": "markdown",
   "id": "4fd9cfc1",
   "metadata": {},
   "source": [
    "#### Here we read our dataset (dataset is given in repositiory)"
   ]
  },
  {
   "cell_type": "code",
   "execution_count": 2,
   "id": "22e9866e",
   "metadata": {},
   "outputs": [
    {
     "data": {
      "text/html": [
       "<div>\n",
       "<style scoped>\n",
       "    .dataframe tbody tr th:only-of-type {\n",
       "        vertical-align: middle;\n",
       "    }\n",
       "\n",
       "    .dataframe tbody tr th {\n",
       "        vertical-align: top;\n",
       "    }\n",
       "\n",
       "    .dataframe thead th {\n",
       "        text-align: right;\n",
       "    }\n",
       "</style>\n",
       "<table border=\"1\" class=\"dataframe\">\n",
       "  <thead>\n",
       "    <tr style=\"text-align: right;\">\n",
       "      <th></th>\n",
       "      <th>horse power</th>\n",
       "      <th>no of seats</th>\n",
       "      <th>type</th>\n",
       "    </tr>\n",
       "  </thead>\n",
       "  <tbody>\n",
       "    <tr>\n",
       "      <th>0</th>\n",
       "      <td>85</td>\n",
       "      <td>4</td>\n",
       "      <td>hatchback</td>\n",
       "    </tr>\n",
       "    <tr>\n",
       "      <th>1</th>\n",
       "      <td>90</td>\n",
       "      <td>4</td>\n",
       "      <td>hatchback</td>\n",
       "    </tr>\n",
       "    <tr>\n",
       "      <th>2</th>\n",
       "      <td>120</td>\n",
       "      <td>4</td>\n",
       "      <td>hatchback</td>\n",
       "    </tr>\n",
       "    <tr>\n",
       "      <th>3</th>\n",
       "      <td>110</td>\n",
       "      <td>4</td>\n",
       "      <td>hatchback</td>\n",
       "    </tr>\n",
       "    <tr>\n",
       "      <th>4</th>\n",
       "      <td>500</td>\n",
       "      <td>2</td>\n",
       "      <td>super car</td>\n",
       "    </tr>\n",
       "    <tr>\n",
       "      <th>5</th>\n",
       "      <td>812</td>\n",
       "      <td>2</td>\n",
       "      <td>super car</td>\n",
       "    </tr>\n",
       "    <tr>\n",
       "      <th>6</th>\n",
       "      <td>650</td>\n",
       "      <td>2</td>\n",
       "      <td>super car</td>\n",
       "    </tr>\n",
       "    <tr>\n",
       "      <th>7</th>\n",
       "      <td>475</td>\n",
       "      <td>2</td>\n",
       "      <td>super car</td>\n",
       "    </tr>\n",
       "    <tr>\n",
       "      <th>8</th>\n",
       "      <td>158</td>\n",
       "      <td>7</td>\n",
       "      <td>mini van</td>\n",
       "    </tr>\n",
       "    <tr>\n",
       "      <th>9</th>\n",
       "      <td>200</td>\n",
       "      <td>7</td>\n",
       "      <td>mini van</td>\n",
       "    </tr>\n",
       "    <tr>\n",
       "      <th>10</th>\n",
       "      <td>187</td>\n",
       "      <td>7</td>\n",
       "      <td>mini van</td>\n",
       "    </tr>\n",
       "    <tr>\n",
       "      <th>11</th>\n",
       "      <td>145</td>\n",
       "      <td>7</td>\n",
       "      <td>mini van</td>\n",
       "    </tr>\n",
       "    <tr>\n",
       "      <th>12</th>\n",
       "      <td>500</td>\n",
       "      <td>4</td>\n",
       "      <td>luxury sedan</td>\n",
       "    </tr>\n",
       "    <tr>\n",
       "      <th>13</th>\n",
       "      <td>623</td>\n",
       "      <td>4</td>\n",
       "      <td>luxury sedan</td>\n",
       "    </tr>\n",
       "    <tr>\n",
       "      <th>14</th>\n",
       "      <td>650</td>\n",
       "      <td>4</td>\n",
       "      <td>luxury sedan</td>\n",
       "    </tr>\n",
       "    <tr>\n",
       "      <th>15</th>\n",
       "      <td>441</td>\n",
       "      <td>4</td>\n",
       "      <td>luxury sedan</td>\n",
       "    </tr>\n",
       "    <tr>\n",
       "      <th>16</th>\n",
       "      <td>330</td>\n",
       "      <td>2</td>\n",
       "      <td>truck</td>\n",
       "    </tr>\n",
       "    <tr>\n",
       "      <th>17</th>\n",
       "      <td>400</td>\n",
       "      <td>2</td>\n",
       "      <td>truck</td>\n",
       "    </tr>\n",
       "    <tr>\n",
       "      <th>18</th>\n",
       "      <td>250</td>\n",
       "      <td>2</td>\n",
       "      <td>truck</td>\n",
       "    </tr>\n",
       "    <tr>\n",
       "      <th>19</th>\n",
       "      <td>310</td>\n",
       "      <td>2</td>\n",
       "      <td>truck</td>\n",
       "    </tr>\n",
       "    <tr>\n",
       "      <th>20</th>\n",
       "      <td>1050</td>\n",
       "      <td>1</td>\n",
       "      <td>formula one car</td>\n",
       "    </tr>\n",
       "    <tr>\n",
       "      <th>21</th>\n",
       "      <td>1130</td>\n",
       "      <td>1</td>\n",
       "      <td>formula one car</td>\n",
       "    </tr>\n",
       "    <tr>\n",
       "      <th>22</th>\n",
       "      <td>980</td>\n",
       "      <td>1</td>\n",
       "      <td>formula one car</td>\n",
       "    </tr>\n",
       "    <tr>\n",
       "      <th>23</th>\n",
       "      <td>1200</td>\n",
       "      <td>1</td>\n",
       "      <td>formula one car</td>\n",
       "    </tr>\n",
       "  </tbody>\n",
       "</table>\n",
       "</div>"
      ],
      "text/plain": [
       "    horse power  no of seats             type\n",
       "0            85            4        hatchback\n",
       "1            90            4        hatchback\n",
       "2           120            4        hatchback\n",
       "3           110            4        hatchback\n",
       "4           500            2        super car\n",
       "5           812            2        super car\n",
       "6           650            2        super car\n",
       "7           475            2        super car\n",
       "8           158            7         mini van\n",
       "9           200            7         mini van\n",
       "10          187            7         mini van\n",
       "11          145            7         mini van\n",
       "12          500            4     luxury sedan\n",
       "13          623            4     luxury sedan\n",
       "14          650            4     luxury sedan\n",
       "15          441            4     luxury sedan\n",
       "16          330            2            truck\n",
       "17          400            2            truck\n",
       "18          250            2            truck\n",
       "19          310            2            truck\n",
       "20         1050            1  formula one car\n",
       "21         1130            1  formula one car\n",
       "22          980            1  formula one car\n",
       "23         1200            1  formula one car"
      ]
     },
     "execution_count": 2,
     "metadata": {},
     "output_type": "execute_result"
    }
   ],
   "source": [
    "data = pd.read_csv('C:/Users/Irfan/datasets/csv/cars and hp.csv')\n",
    "data"
   ]
  },
  {
   "cell_type": "markdown",
   "id": "ad72dbcd",
   "metadata": {},
   "source": [
    "#### Visualizing dataset for keen observation "
   ]
  },
  {
   "cell_type": "code",
   "execution_count": 3,
   "id": "aa802920",
   "metadata": {},
   "outputs": [
    {
     "data": {
      "image/png": "[encoded data removed]",
      "text/plain": [
       "<Figure size 432x288 with 1 Axes>"
      ]
     },
     "metadata": {
      "needs_background": "light"
     },
     "output_type": "display_data"
    }
   ],
   "source": [
    "data.plot(y ='horse power', x ='no of seats', kind = 'bar')\n",
    "plt.style.use(\"seaborn\")\n",
    "plt.show()"
   ]
  },
  {
   "cell_type": "markdown",
   "id": "1f8c9bea",
   "metadata": {},
   "source": [
    "#### From the observation we find the column \"type\" is a string whereas others are not so lets drop that from data and use it as y which is parameter of output similarly the dataset without the dropped coulumn would be X i.e parameter of input"
   ]
  },
  {
   "cell_type": "code",
   "execution_count": 4,
   "id": "264e58a7",
   "metadata": {},
   "outputs": [],
   "source": [
    "X = data.drop(columns=['type'])\n",
    "y = data['type'] \n"
   ]
  },
  {
   "cell_type": "markdown",
   "id": "4ec87e98",
   "metadata": {},
   "source": [
    "#### nothing much but assigning DTC to a variable and processing our parameters with it"
   ]
  },
  {
   "cell_type": "code",
   "execution_count": 5,
   "id": "c9802c0c",
   "metadata": {},
   "outputs": [
    {
     "data": {
      "text/plain": [
       "DecisionTreeClassifier()"
      ]
     },
     "execution_count": 5,
     "metadata": {},
     "output_type": "execute_result"
    }
   ],
   "source": [
    "model = DecisionTreeClassifier()\n",
    "model.fit(X,y)"
   ]
  },
  {
   "cell_type": "markdown",
   "id": "544041ab",
   "metadata": {},
   "source": [
    "#### here happens the magic where we could see the output of our predictions, so lets predict using our model with random data which is not from our dataset as this is a 2D array we shall pass 2 objects p [hp,seats]"
   ]
  },
  {
   "cell_type": "code",
   "execution_count": 6,
   "id": "742cf537",
   "metadata": {},
   "outputs": [
    {
     "data": {
      "text/plain": [
       "array(['formula one car', 'hatchback', 'luxury sedan', 'luxury sedan'],\n",
       "      dtype=object)"
      ]
     },
     "execution_count": 6,
     "metadata": {},
     "output_type": "execute_result"
    }
   ],
   "source": [
    "predictions = model.predict([[1000,1],[100,4],[700,4],[999,7]])\n",
    "predictions"
   ]
  },
  {
   "cell_type": "markdown",
   "id": "66fc7b2d",
   "metadata": {},
   "source": [
    "#### applying test train split on our dataset"
   ]
  },
  {
   "cell_type": "code",
   "execution_count": 7,
   "id": "21f642ea",
   "metadata": {},
   "outputs": [
    {
     "data": {
      "text/plain": [
       "DecisionTreeClassifier()"
      ]
     },
     "execution_count": 7,
     "metadata": {},
     "output_type": "execute_result"
    }
   ],
   "source": [
    "X_train, X_test, y_train, y_test = train_test_split(X,y, test_size=0.2)\n",
    "model.fit(X_train,y_train)\n"
   ]
  },
  {
   "cell_type": "code",
   "execution_count": 8,
   "id": "5f97eceb",
   "metadata": {},
   "outputs": [
    {
     "data": {
      "text/plain": [
       "array(['luxury sedan', 'truck', 'truck', 'truck', 'hatchback'],\n",
       "      dtype=object)"
      ]
     },
     "execution_count": 8,
     "metadata": {},
     "output_type": "execute_result"
    }
   ],
   "source": [
    "predictions = model.predict(X_test)\n",
    "predictions"
   ]
  },
  {
   "cell_type": "markdown",
   "id": "4bc642a8",
   "metadata": {},
   "source": [
    "#### Mesuring the accuracy of our model with accuracy score... this score can vary while multiple executions also will be altered with the changing of test size "
   ]
  },
  {
   "cell_type": "code",
   "execution_count": 9,
   "id": "14ac02fb",
   "metadata": {},
   "outputs": [
    {
     "data": {
      "text/plain": [
       "1.0"
      ]
     },
     "execution_count": 9,
     "metadata": {},
     "output_type": "execute_result"
    }
   ],
   "source": [
    "scr = accuracy_score(y_test,predictions)\n",
    "scr"
   ]
  },
  {
   "cell_type": "code",
   "execution_count": null,
   "id": "87c0f3b1",
   "metadata": {},
   "outputs": [],
   "source": []
  },
  {
   "cell_type": "code",
   "execution_count": null,
   "id": "b6dd8e4e",
   "metadata": {},
   "outputs": [],
   "source": []
  }
 ],
 "metadata": {
  "kernelspec": {
   "display_name": "Python 3",
   "language": "python",
   "name": "python3"
  },
  "language_info": {
   "codemirror_mode": {
    "name": "ipython",
    "version": 3
   },
   "file_extension": ".py",
   "mimetype": "text/x-python",
   "name": "python",
   "nbconvert_exporter": "python",
   "pygments_lexer": "ipython3",
   "version": "3.8.8"
  }
 },
 "nbformat": 4,
 "nbformat_minor": 5
}
